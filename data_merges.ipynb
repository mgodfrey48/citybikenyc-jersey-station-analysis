{
 "cells": [
  {
   "cell_type": "code",
   "execution_count": null,
   "id": "a123d89e",
   "metadata": {},
   "outputs": [],
   "source": [
    "# Imports\n",
    "import pandas as pd"
   ]
  },
  {
   "cell_type": "code",
   "execution_count": null,
   "id": "ef1dc43e",
   "metadata": {},
   "outputs": [],
   "source": [
    "# Read in all of the 2019 dataframes to merge\n",
    "jan_19 = pd.read_csv(\"Data/JC-201901-citibike-tripdata.csv\")\n",
    "jan_19_df = pd.DataFrame(jan_19)\n",
    "feb_19 = pd.read_csv(\"Data/JC-201902-citibike-tripdata.csv\")\n",
    "feb_19_df = pd.DataFrame(feb_19)\n",
    "mar_19 = pd.read_csv(\"Data/JC-201903-citibike-tripdata.csv\")\n",
    "mar_19_df = pd.DataFrame(mar_19)\n",
    "apr_19 = pd.read_csv(\"Data/JC-201904-citibike-tripdata.csv\")\n",
    "apr_19_df = pd.DataFrame(apr_19)\n",
    "may_19 = pd.read_csv(\"Data/JC-201905-citibike-tripdata.csv\")\n",
    "may_19_df = pd.DataFrame(may_19)\n",
    "jun_19 = pd.read_csv(\"Data/JC-201906-citibike-tripdata.csv\")\n",
    "jun_19_df = pd.DataFrame(jun_19)\n",
    "jul_19 = pd.read_csv(\"Data/JC-201907-citibike-tripdata.csv\")\n",
    "jul_19_df = pd.DataFrame(jul_19)\n",
    "aug_19 = pd.read_csv(\"Data/JC-201908-citibike-tripdata.csv\")\n",
    "aug_19_df = pd.DataFrame(aug_19)\n",
    "sep_19 = pd.read_csv(\"Data/JC-201909-citibike-tripdata.csv\")\n",
    "sep_19_df = pd.DataFrame(sep_19)\n",
    "oct_19 = pd.read_csv(\"Data/JC-201910-citibike-tripdata.csv\")\n",
    "oct_19_df = pd.DataFrame(oct_19)\n",
    "nov_19 = pd.read_csv(\"Data/JC-201911-citibike-tripdata.csv\")\n",
    "nov_19_df = pd.DataFrame(nov_19)\n",
    "dec_19 = pd.read_csv(\"Data/JC-201912-citibike-tripdata.csv\")\n",
    "dec_19_df = pd.DataFrame(dec_19)"
   ]
  },
  {
   "cell_type": "code",
   "execution_count": null,
   "id": "7f07de77",
   "metadata": {},
   "outputs": [],
   "source": [
    "# Merge 2019 month datafremes to make one 2019 dataframe\n",
    "citi2019 = pd.concat([jan_19_df, feb_19_df, mar_19_df, apr_19_df, may_19_df, jun_19_df, jul_19_df, aug_19_df, sep_19_df, oct_19_df, nov_19_df, dec_19_df])\n",
    "citi2019.head()"
   ]
  },
  {
   "cell_type": "code",
   "execution_count": null,
   "id": "96ac1900",
   "metadata": {},
   "outputs": [],
   "source": [
    "citi2019.describe()"
   ]
  },
  {
   "cell_type": "code",
   "execution_count": null,
   "id": "4454b986",
   "metadata": {},
   "outputs": [],
   "source": [
    "# Read in all of the 2020 dataframes to merge\n",
    "jan_20 = pd.read_csv(\"Data/JC-202001-citibike-tripdata.csv\")\n",
    "jan_20_df = pd.DataFrame(jan_20)\n",
    "feb_20 = pd.read_csv(\"Data/JC-202002-citibike-tripdata.csv\")\n",
    "feb_20_df = pd.DataFrame(feb_20)\n",
    "mar_20 = pd.read_csv(\"Data/JC-202003-citibike-tripdata.csv\")\n",
    "mar_20_df = pd.DataFrame(mar_20)\n",
    "apr_20 = pd.read_csv(\"Data/JC-202004-citibike-tripdata.csv\")\n",
    "apr_20_df = pd.DataFrame(apr_20)\n",
    "may_20 = pd.read_csv(\"Data/JC-202005-citibike-tripdata.csv\")\n",
    "may_20_df = pd.DataFrame(may_20)\n",
    "jun_20 = pd.read_csv(\"Data/JC-202006-citibike-tripdata.csv\")\n",
    "jun_20_df = pd.DataFrame(jun_20)\n",
    "jul_20 = pd.read_csv(\"Data/JC-202007-citibike-tripdata.csv\")\n",
    "jul_20_df = pd.DataFrame(jul_20)\n",
    "aug_20 = pd.read_csv(\"Data/JC-202008-citibike-tripdata.csv\")\n",
    "aug_20_df = pd.DataFrame(aug_20)\n",
    "sep_20 = pd.read_csv(\"Data/JC-202009-citibike-tripdata.csv\")\n",
    "sep_20_df = pd.DataFrame(sep_20)\n",
    "oct_20 = pd.read_csv(\"Data/JC-202010-citibike-tripdata.csv\")\n",
    "oct_20_df = pd.DataFrame(oct_20)\n",
    "nov_20 = pd.read_csv(\"Data/JC-202011-citibike-tripdata.csv\")\n",
    "nov_20_df = pd.DataFrame(nov_20)\n",
    "dec_20 = pd.read_csv(\"Data/JC-202012-citibike-tripdata.csv\")\n",
    "dec_20_df = pd.DataFrame(dec_20)"
   ]
  },
  {
   "cell_type": "code",
   "execution_count": null,
   "id": "31e76456",
   "metadata": {},
   "outputs": [],
   "source": [
    "print(jan_20_df.columns)\n",
    "print(feb_20_df.columns)\n",
    "print(mar_20_df.columns)\n",
    "print(apr_20_df.columns)\n",
    "print(may_20_df.columns)\n",
    "print(jun_20_df.columns)\n",
    "print(jul_20_df.columns)\n",
    "print(aug_20_df.columns)\n",
    "print(sep_20_df.columns)\n",
    "print(oct_20_df.columns)\n",
    "print(nov_20_df.columns)\n",
    "print(dec_20_df.columns)"
   ]
  },
  {
   "cell_type": "code",
   "execution_count": null,
   "id": "26eed14f",
   "metadata": {},
   "outputs": [],
   "source": [
    "# Merge 2020 month datafremes to make one 2020 dataframe\n",
    "citi2020 = pd.concat([jan_20_df, feb_20_df, mar_20_df, apr_20_df, may_20_df, jun_20_df, jul_20_df, aug_20_df, sep_20_df, oct_20_df, nov_20_df, dec_20_df])\n",
    "citi2020.head()"
   ]
  },
  {
   "cell_type": "code",
   "execution_count": null,
   "id": "10230819",
   "metadata": {},
   "outputs": [],
   "source": [
    "# Read in all of the 2021 dataframes to merge\n",
    "jan_21 = pd.read_csv(\"Data/JC-202101-citibike-tripdata.csv\")\n",
    "jan_21_df = pd.DataFrame(jan_21)\n",
    "feb_21 = pd.read_csv(\"Data/JC-202102-citibike-tripdata.csv\")\n",
    "feb_21_df = pd.DataFrame(feb_21)\n",
    "mar_21 = pd.read_csv(\"Data/JC-202103-citibike-tripdata.csv\")\n",
    "mar_21_df = pd.DataFrame(mar_21)\n",
    "apr_21 = pd.read_csv(\"Data/JC-202104-citibike-tripdata.csv\")\n",
    "apr_21_df = pd.DataFrame(apr_21)\n",
    "may_21 = pd.read_csv(\"Data/JC-202105-citibike-tripdata.csv\")\n",
    "may_21_df = pd.DataFrame(may_21)\n",
    "jun_21 = pd.read_csv(\"Data/JC-202106-citibike-tripdata.csv\")\n",
    "jun_21_df = pd.DataFrame(jun_21)\n",
    "jul_21 = pd.read_csv(\"Data/JC-202107-citibike-tripdata.csv\")\n",
    "jul_21_df = pd.DataFrame(jul_21)\n",
    "aug_21 = pd.read_csv(\"Data/JC-202108-citibike-tripdata.csv\")\n",
    "aug_21_df = pd.DataFrame(aug_21)\n",
    "sep_21 = pd.read_csv(\"Data/JC-202109-citibike-tripdata.csv\")\n",
    "sep_21_df = pd.DataFrame(sep_21)\n",
    "oct_21 = pd.read_csv(\"Data/JC-202110-citibike-tripdata.csv\")\n",
    "oct_21_df = pd.DataFrame(oct_21)\n",
    "nov_21 = pd.read_csv(\"Data/JC-202111-citibike-tripdata.csv\")\n",
    "nov_21_df = pd.DataFrame(nov_21)\n",
    "dec_21 = pd.read_csv(\"Data/JC-202112-citibike-tripdata.csv\")\n",
    "dec_21_df = pd.DataFrame(dec_21)"
   ]
  },
  {
   "cell_type": "code",
   "execution_count": null,
   "id": "ea2a7330",
   "metadata": {},
   "outputs": [],
   "source": [
    "# Rename the January 2021 df columns to match the columns of the other 2021 dfs\n",
    "jan_21_df = jan_21_df.rename(columns={\n",
    "    'starttime': 'started_at',\n",
    "    'stoptime': 'ended_at',\n",
    "    'start station id': 'start_station_id',\n",
    "    'start station name':'start_station_name', \n",
    "    'start station latitude': 'start_lat',\n",
    "    'start station longitude': 'start_lng', \n",
    "    'end station id': 'end_station_id', \n",
    "    'end station name': 'end_station_name',\n",
    "    'end station latitude': 'end_lat', \n",
    "    'end station longitude': 'end_lng', \n",
    "    'usertype': 'member_casual',    \n",
    "})"
   ]
  },
  {
   "cell_type": "code",
   "execution_count": null,
   "id": "d3c19b02",
   "metadata": {},
   "outputs": [],
   "source": [
    "# Drop ride_id and rideable_type from all 2021 dfs except January\n",
    "feb_21_df = feb_21_df.drop(columns=['ride_id', 'rideable_type'])\n",
    "mar_21_df = mar_21_df.drop(columns=['ride_id', 'rideable_type'])\n",
    "apr_21_df = apr_21_df.drop(columns=['ride_id', 'rideable_type'])\n",
    "may_21_df = may_21_df.drop(columns=['ride_id', 'rideable_type'])\n",
    "jun_21_df = jun_21_df.drop(columns=['ride_id', 'rideable_type'])\n",
    "jul_21_df = jul_21_df.drop(columns=['ride_id', 'rideable_type'])\n",
    "aug_21_df = aug_21_df.drop(columns=['ride_id', 'rideable_type'])\n",
    "sep_21_df = sep_21_df.drop(columns=['ride_id', 'rideable_type'])\n",
    "oct_21_df = oct_21_df.drop(columns=['ride_id', 'rideable_type'])\n",
    "nov_21_df = nov_21_df.drop(columns=['ride_id', 'rideable_type'])\n",
    "dec_21_df = dec_21_df.drop(columns=['ride_id', 'rideable_type'])"
   ]
  },
  {
   "cell_type": "code",
   "execution_count": null,
   "id": "5bb48f7b",
   "metadata": {},
   "outputs": [],
   "source": [
    "# Merge 2021 month datafremes to make one 2021 dataframe\n",
    "citi2021 = pd.concat([jan_21_df, feb_21_df, mar_21_df, apr_21_df, may_21_df, jun_21_df, jul_21_df, aug_21_df, sep_21_df, oct_21_df, nov_21_df, dec_21_df])\n",
    "citi2021.head()"
   ]
  },
  {
   "cell_type": "code",
   "execution_count": null,
   "id": "ae08c694",
   "metadata": {},
   "outputs": [],
   "source": [
    "# Remane columns to match the other data frames\n",
    "citi2021 = citi2021.rename(columns={\n",
    "    'started_at': 'starttime',\n",
    "    'ended_at': 'stoptime',\n",
    "    'start_station_id': 'start station id',\n",
    "    'start_station_name': 'start station name', \n",
    "    'start_lat': 'start station latitude',\n",
    "    'start_lng': 'start station longitude', \n",
    "    'end_station_id': 'end station id', \n",
    "    'end_station_name': 'end station name',\n",
    "    'end_lat': 'end station latitude', \n",
    "    'end_lng': 'end station longitude', \n",
    "    'member_casual': 'usertype'    \n",
    "})\n",
    "citi2021.head()"
   ]
  },
  {
   "cell_type": "code",
   "execution_count": null,
   "id": "866b7586",
   "metadata": {},
   "outputs": [],
   "source": [
    "print(citi2019.columns)\n",
    "print(citi2020.columns)\n",
    "print(citi2021.columns)"
   ]
  },
  {
   "cell_type": "code",
   "execution_count": null,
   "id": "7d8d5203",
   "metadata": {},
   "outputs": [],
   "source": [
    "# Merge all yearly dataframes\n",
    "citibike_data = pd.concat([citi2019, citi2020, citi2021])"
   ]
  },
  {
   "cell_type": "code",
   "execution_count": null,
   "id": "748285a7",
   "metadata": {},
   "outputs": [],
   "source": [
    "# Round the trip duration column\n",
    "citibike_data['tripduration'] = round(citibike_data['tripduration']/60, 2)"
   ]
  },
  {
   "cell_type": "code",
   "execution_count": null,
   "id": "7a7f8923",
   "metadata": {},
   "outputs": [],
   "source": [
    "citibike_data.head()"
   ]
  },
  {
   "cell_type": "code",
   "execution_count": null,
   "id": "45c72a81",
   "metadata": {},
   "outputs": [],
   "source": [
    "# Rename user type to be consistent and clearer\n",
    "citibike_data['usertype'] = citibike_data['usertype'].replace(['member', 'casual'], ['Subscriber', 'Customer'])"
   ]
  },
  {
   "cell_type": "code",
   "execution_count": null,
   "id": "c447a046",
   "metadata": {},
   "outputs": [],
   "source": [
    "citibike_data.tail()"
   ]
  },
  {
   "cell_type": "code",
   "execution_count": null,
   "id": "a96cad09",
   "metadata": {},
   "outputs": [],
   "source": [
    "# Export 2019-2021 dataframe to csv\n",
    "citibike_data.to_csv(\"Data/citibike_data.csv\", index=False, header=True)"
   ]
  }
 ],
 "metadata": {
  "kernelspec": {
   "display_name": "Python 3",
   "language": "python",
   "name": "python3"
  },
  "language_info": {
   "codemirror_mode": {
    "name": "ipython",
    "version": 3
   },
   "file_extension": ".py",
   "mimetype": "text/x-python",
   "name": "python",
   "nbconvert_exporter": "python",
   "pygments_lexer": "ipython3",
   "version": "3.8.8"
  }
 },
 "nbformat": 4,
 "nbformat_minor": 5
}
